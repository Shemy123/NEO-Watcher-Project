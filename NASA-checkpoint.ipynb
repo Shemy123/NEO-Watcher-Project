{
 "cells": [
  {
   "cell_type": "code",
   "execution_count": 11,
   "id": "52d62c6c",
   "metadata": {},
   "outputs": [
    {
     "name": "stdout",
     "output_type": "stream",
     "text": [
      "200 433 Eros (A898 PA)\n",
      "Collecting xlsxwriter\n",
      "  Downloading XlsxWriter-3.2.3-py3-none-any.whl.metadata (2.7 kB)\n",
      "Downloading XlsxWriter-3.2.3-py3-none-any.whl (169 kB)\n",
      "   ---------------------------------------- 0.0/169.4 kB ? eta -:--:--\n",
      "   ------- ------------------------------- 30.7/169.4 kB 660.6 kB/s eta 0:00:01\n",
      "   ---------------------------------------- 169.4/169.4 kB 2.5 MB/s eta 0:00:00\n",
      "Installing collected packages: xlsxwriter\n",
      "Successfully installed xlsxwriter-3.2.3\n"
     ]
    }
   ],
   "source": [
    "import requests\n",
    "key = \"9v52q9wOJhLZgyTmnBcrP95lvxvkU3J7SlmmqBsE\"\n",
    "resp = requests.get(f\"https://api.nasa.gov/neo/rest/v1/neo/browse?api_key={key}\")\n",
    "print(resp.status_code, resp.json().get('near_earth_objects')[0]['name'])\n",
    "!pip install xlsxwriter"
   ]
  },
  {
   "cell_type": "code",
   "execution_count": 12,
   "id": "20bc1629",
   "metadata": {
    "scrolled": true
   },
   "outputs": [
    {
     "name": "stdout",
     "output_type": "stream",
     "text": [
      "Top-level keys: dict_keys(['links', 'element_count', 'near_earth_objects'])\n",
      "Loaded 13 NEOs, 3 hazardous.\n",
      "\n"
     ]
    }
   ],
   "source": [
    "import requests\n",
    "import pandas as pd\n",
    "from datetime import date, timedelta\n",
    "\n",
    "# Use yesterday to guarantee the feed exists\n",
    "api_key  = \"N6AkEKVTMMcRUvlzKdUvWRbgcenjZihLrBgdZxeo\"\n",
    "yesterday = (date.today() - timedelta(days=1)).isoformat()\n",
    "\n",
    "# Fetch yesterday’s NEO feed\n",
    "url  = (\n",
    "  f\"https://api.nasa.gov/neo/rest/v1/feed\"\n",
    "  f\"?start_date={yesterday}&end_date={yesterday}\"\n",
    "  f\"&api_key={api_key}\"\n",
    ")\n",
    "resp = requests.get(url)\n",
    "data = resp.json()\n",
    "\n",
    "# Confirm we got the right keys\n",
    "print(\"Top-level keys:\", data.keys())  # should include 'near_earth_objects'\n",
    "\n",
    "# Build the DataFrame\n",
    "neos = []\n",
    "for obj in data['near_earth_objects'][yesterday]:\n",
    "    approach = obj['close_approach_data'][0]\n",
    "    neos.append({\n",
    "        'Name': obj['name'],\n",
    "        'Close Approach Date': approach['close_approach_date'],\n",
    "        'Diameter (min, m)': obj['estimated_diameter']['meters']['estimated_diameter_min'],\n",
    "        'Diameter (max, m)': obj['estimated_diameter']['meters']['estimated_diameter_max'],\n",
    "        'Hazardous': obj['is_potentially_hazardous_asteroid'],\n",
    "        'Miss Distance (km)': float(approach['miss_distance']['kilometers']),\n",
    "        'Velocity (km/hr)': float(approach['relative_velocity']['kilometers_per_hour']),\n",
    "    })\n",
    "\n",
    "df_neos = pd.DataFrame(neos)\n",
    "print(f\"Loaded {len(df_neos)} NEOs, {df_neos['Hazardous'].sum()} hazardous.\\n\")\n",
    "\n",
    "# (Then append your Excel-export code below...)\n"
   ]
  },
  {
   "cell_type": "code",
   "execution_count": 13,
   "id": "f73faf42",
   "metadata": {},
   "outputs": [
    {
     "name": "stdout",
     "output_type": "stream",
     "text": [
      "✅ Excel report saved as: neo_report.xlsx\n"
     ]
    }
   ],
   "source": [
    "from pandas import ExcelWriter\n",
    "\n",
    "output_file = \"neo_report.xlsx\"\n",
    "# … build df_summary & df_neos …\n",
    "\n",
    "with ExcelWriter(output_file, engine='xlsxwriter') as writer:\n",
    "    df_summary.to_excel(writer, sheet_name='Summary', index=False)\n",
    "    df_neos.to_excel(writer, sheet_name='NEO_Data', index=False)\n",
    "    workbook  = writer.book\n",
    "    worksheet = writer.sheets['NEO_Data']\n",
    "    red_format = workbook.add_format({'font_color':'red'})\n",
    "    worksheet.conditional_format(f'E2:E{len(df_neos)+1}', {\n",
    "        'type':'cell','criteria':'==','value':True,'format':red_format\n",
    "    })\n",
    "\n",
    "print(f\"✅ Excel report saved as: {output_file}\")"
   ]
  },
  {
   "cell_type": "markdown",
   "id": "a38a3c56",
   "metadata": {},
   "source": [
    "# 🚀 Near-Earth Object Watcher\n",
    "\n",
    "This project connects to NASA’s Near-Earth Object (NEO) API, pulls the latest asteroid approach data, and creates a professional Excel report showing size, velocity, distance, and hazard status for each object.\n",
    "\n",
    "---\n",
    "\n",
    "## 📥 Step 1: Fetch NASA Data\n",
    "We use Python’s `requests` module to call the `/feed` endpoint, using yesterday’s date to ensure data availability.\n",
    "\n",
    "## 🧹 Step 2: Data Extraction\n",
    "We parse the JSON, extract relevant fields (name, diameter, distance, velocity, hazard flag), and organize them in a Pandas DataFrame.\n",
    "\n",
    "## 📊 Step 3: Excel Report Generation\n",
    "We output the data into a multi-sheet Excel file (`neo_report.xlsx`) using `xlsxwriter`, including:\n",
    "- A summary sheet\n",
    "- Conditional formatting (red text for hazardous NEOs)\n",
    "\n",
    "## ✅ Key Results\n"
   ]
  },
  {
   "cell_type": "code",
   "execution_count": 14,
   "id": "1f225ad3",
   "metadata": {},
   "outputs": [
    {
     "data": {
      "text/html": [
       "<div>\n",
       "<style scoped>\n",
       "    .dataframe tbody tr th:only-of-type {\n",
       "        vertical-align: middle;\n",
       "    }\n",
       "\n",
       "    .dataframe tbody tr th {\n",
       "        vertical-align: top;\n",
       "    }\n",
       "\n",
       "    .dataframe thead th {\n",
       "        text-align: right;\n",
       "    }\n",
       "</style>\n",
       "<table border=\"1\" class=\"dataframe\">\n",
       "  <thead>\n",
       "    <tr style=\"text-align: right;\">\n",
       "      <th></th>\n",
       "      <th>Name</th>\n",
       "      <th>Close Approach Date</th>\n",
       "      <th>Diameter (min, m)</th>\n",
       "      <th>Diameter (max, m)</th>\n",
       "      <th>Hazardous</th>\n",
       "      <th>Miss Distance (km)</th>\n",
       "      <th>Velocity (km/hr)</th>\n",
       "    </tr>\n",
       "  </thead>\n",
       "  <tbody>\n",
       "    <tr>\n",
       "      <th>0</th>\n",
       "      <td>136818 Selqet (1997 MW1)</td>\n",
       "      <td>2025-05-25</td>\n",
       "      <td>425.162524</td>\n",
       "      <td>950.692305</td>\n",
       "      <td>False</td>\n",
       "      <td>6.893113e+07</td>\n",
       "      <td>84773.837700</td>\n",
       "    </tr>\n",
       "    <tr>\n",
       "      <th>1</th>\n",
       "      <td>390725 (2003 HB)</td>\n",
       "      <td>2025-05-25</td>\n",
       "      <td>306.587876</td>\n",
       "      <td>685.551332</td>\n",
       "      <td>True</td>\n",
       "      <td>7.028366e+06</td>\n",
       "      <td>48479.156777</td>\n",
       "    </tr>\n",
       "    <tr>\n",
       "      <th>2</th>\n",
       "      <td>434633 (2005 WB1)</td>\n",
       "      <td>2025-05-25</td>\n",
       "      <td>196.134944</td>\n",
       "      <td>438.571068</td>\n",
       "      <td>True</td>\n",
       "      <td>8.709360e+06</td>\n",
       "      <td>58620.489107</td>\n",
       "    </tr>\n",
       "    <tr>\n",
       "      <th>3</th>\n",
       "      <td>(2005 TC51)</td>\n",
       "      <td>2025-05-25</td>\n",
       "      <td>9.216265</td>\n",
       "      <td>20.608196</td>\n",
       "      <td>False</td>\n",
       "      <td>3.890220e+07</td>\n",
       "      <td>59527.568438</td>\n",
       "    </tr>\n",
       "    <tr>\n",
       "      <th>4</th>\n",
       "      <td>(2014 KF22)</td>\n",
       "      <td>2025-05-25</td>\n",
       "      <td>13.949382</td>\n",
       "      <td>31.191767</td>\n",
       "      <td>False</td>\n",
       "      <td>3.475910e+06</td>\n",
       "      <td>41385.943336</td>\n",
       "    </tr>\n",
       "  </tbody>\n",
       "</table>\n",
       "</div>"
      ],
      "text/plain": [
       "                       Name Close Approach Date  Diameter (min, m)  \\\n",
       "0  136818 Selqet (1997 MW1)          2025-05-25         425.162524   \n",
       "1          390725 (2003 HB)          2025-05-25         306.587876   \n",
       "2         434633 (2005 WB1)          2025-05-25         196.134944   \n",
       "3               (2005 TC51)          2025-05-25           9.216265   \n",
       "4               (2014 KF22)          2025-05-25          13.949382   \n",
       "\n",
       "   Diameter (max, m)  Hazardous  Miss Distance (km)  Velocity (km/hr)  \n",
       "0         950.692305      False        6.893113e+07      84773.837700  \n",
       "1         685.551332       True        7.028366e+06      48479.156777  \n",
       "2         438.571068       True        8.709360e+06      58620.489107  \n",
       "3          20.608196      False        3.890220e+07      59527.568438  \n",
       "4          31.191767      False        3.475910e+06      41385.943336  "
      ]
     },
     "execution_count": 14,
     "metadata": {},
     "output_type": "execute_result"
    }
   ],
   "source": [
    "df_neos.head()"
   ]
  },
  {
   "cell_type": "code",
   "execution_count": null,
   "id": "5f484714",
   "metadata": {},
   "outputs": [],
   "source": []
  }
 ],
 "metadata": {
  "kernelspec": {
   "display_name": "Python 3 (ipykernel)",
   "language": "python",
   "name": "python3"
  },
  "language_info": {
   "codemirror_mode": {
    "name": "ipython",
    "version": 3
   },
   "file_extension": ".py",
   "mimetype": "text/x-python",
   "name": "python",
   "nbconvert_exporter": "python",
   "pygments_lexer": "ipython3",
   "version": "3.11.7"
  }
 },
 "nbformat": 4,
 "nbformat_minor": 5
}
